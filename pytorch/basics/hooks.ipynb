{
 "cells": [
  {
   "cell_type": "code",
   "execution_count": 1,
   "metadata": {},
   "outputs": [],
   "source": [
    "import numpy as np\n",
    "import pandas as pd\n",
    "\n",
    "import seaborn as sns\n",
    "from tqdm.notebook import tqdm\n",
    "import matplotlib.pyplot as plt\n",
    "\n",
    "\n",
    "import torch\n",
    "import torch.nn as nn\n",
    "import torch.optim as optim\n",
    "import torch.nn.functional as F\n",
    "from torch.utils.data import TensorDataset, DataLoader, random_split, SubsetRandomSampler\n",
    "\n",
    "\n",
    "from sklearn.datasets import load_iris\n",
    "from sklearn.model_selection import train_test_split"
   ]
  },
  {
   "cell_type": "code",
   "execution_count": 2,
   "metadata": {},
   "outputs": [
    {
     "data": {
      "text/plain": [
       "<torch._C.Generator at 0x7f48a113e990>"
      ]
     },
     "execution_count": 2,
     "metadata": {},
     "output_type": "execute_result"
    }
   ],
   "source": [
    "np.random.seed(0)\n",
    "torch.manual_seed(0)"
   ]
  },
  {
   "cell_type": "code",
   "execution_count": 3,
   "metadata": {},
   "outputs": [],
   "source": [
    "%matplotlib inline\n",
    "sns.set_style('darkgrid')"
   ]
  },
  {
   "cell_type": "code",
   "execution_count": 4,
   "metadata": {},
   "outputs": [],
   "source": [
    "iris = load_iris()\n",
    "\n",
    "X = iris.data\n",
    "y = iris.target"
   ]
  },
  {
   "cell_type": "code",
   "execution_count": 5,
   "metadata": {},
   "outputs": [],
   "source": [
    "X_train, X_test, y_train, y_test = train_test_split(X, y, test_size=0.10, random_state=42)"
   ]
  },
  {
   "cell_type": "code",
   "execution_count": 6,
   "metadata": {},
   "outputs": [],
   "source": [
    "train_dataset = TensorDataset(torch.Tensor(X_train), torch.Tensor(y_train).long())\n",
    "test_dataset = TensorDataset(torch.Tensor(X_test), torch.Tensor(y_test).long())"
   ]
  },
  {
   "cell_type": "code",
   "execution_count": 7,
   "metadata": {},
   "outputs": [],
   "source": [
    "train_dataloader = DataLoader(train_dataset, batch_size=8, drop_last=True)\n",
    "test_dataloader = DataLoader(test_dataset, batch_size=1)"
   ]
  },
  {
   "cell_type": "code",
   "execution_count": 8,
   "metadata": {},
   "outputs": [],
   "source": [
    "class IrisClassifier(nn.Module):\n",
    "    def __init__(self):\n",
    "        super(IrisClassifier, self).__init__()\n",
    "        \n",
    "        self.fc1 = nn.Linear(in_features=4, out_features=5)\n",
    "        self.fc2 = nn.Linear(in_features=5, out_features=6)\n",
    "        self.fc3 = nn.Linear(in_features=6, out_features=3)\n",
    "        \n",
    "        self.relu = nn.ReLU()\n",
    "        \n",
    "        self.gradient = None\n",
    "        \n",
    "    def forward(self, x):\n",
    "        x = self.fc1(x)\n",
    "        x = self.relu(x)\n",
    "        \n",
    "        x = self.fc2(x)\n",
    "        x = self.relu(x)\n",
    "        \n",
    "        x.register_hook(self.extract_gradient)\n",
    "        \n",
    "        x = self.fc3(x)\n",
    "        \n",
    "        \n",
    "        return x\n",
    "    \n",
    "    \n",
    "    \n",
    "    def extract_gradient(self, grad):\n",
    "        self.gradient = grad\n",
    "        print(grad.shape)\n",
    "        \n",
    "    def get_gradient(self):\n",
    "        return self.gradient"
   ]
  },
  {
   "cell_type": "code",
   "execution_count": 9,
   "metadata": {},
   "outputs": [
    {
     "name": "stdout",
     "output_type": "stream",
     "text": [
      "IrisClassifier(\n",
      "  (fc1): Linear(in_features=4, out_features=5, bias=True)\n",
      "  (fc2): Linear(in_features=5, out_features=6, bias=True)\n",
      "  (fc3): Linear(in_features=6, out_features=3, bias=True)\n",
      "  (relu): ReLU()\n",
      ")\n"
     ]
    }
   ],
   "source": [
    "model = IrisClassifier()\n",
    "print(model)\n",
    "\n",
    "criterion = nn.CrossEntropyLoss()\n",
    "optimizer = optim.Adam(model.parameters(), lr=0.01)"
   ]
  },
  {
   "cell_type": "code",
   "execution_count": 10,
   "metadata": {},
   "outputs": [
    {
     "name": "stdout",
     "output_type": "stream",
     "text": [
      "('fc1.weight', Parameter containing:\n",
      "tensor([[-0.0037,  0.2682, -0.4115, -0.3680],\n",
      "        [-0.1926,  0.1341, -0.0099,  0.3964],\n",
      "        [-0.0444,  0.1323, -0.1511, -0.0983],\n",
      "        [-0.4777, -0.3311, -0.2061,  0.0185],\n",
      "        [ 0.1977,  0.3000, -0.3390, -0.2177]], requires_grad=True))\n",
      "('fc1.bias', Parameter containing:\n",
      "tensor([ 0.1816,  0.4152, -0.1029,  0.3742, -0.0806], requires_grad=True))\n",
      "('fc2.weight', Parameter containing:\n",
      "tensor([[ 0.0473,  0.4049, -0.4149, -0.2815, -0.1132],\n",
      "        [-0.1743,  0.3864, -0.2899, -0.2059, -0.3124],\n",
      "        [-0.4188, -0.2611,  0.3844,  0.1996,  0.2168],\n",
      "        [ 0.0235, -0.2293,  0.0757, -0.4176, -0.3231],\n",
      "        [-0.2306,  0.2822,  0.2622, -0.1983, -0.0161],\n",
      "        [ 0.2860,  0.4446,  0.1775,  0.0604,  0.2999]], requires_grad=True))\n",
      "('fc2.bias', Parameter containing:\n",
      "tensor([-0.2633,  0.0833, -0.3467, -0.3100, -0.2310,  0.2024],\n",
      "       requires_grad=True))\n",
      "('fc3.weight', Parameter containing:\n",
      "tensor([[ 0.1642, -0.2418,  0.1233,  0.2241, -0.0515,  0.0156],\n",
      "        [ 0.0946,  0.2533,  0.3920, -0.3146, -0.1496,  0.1604],\n",
      "        [ 0.3383,  0.3553,  0.3602,  0.0812, -0.3550,  0.0376]],\n",
      "       requires_grad=True))\n",
      "('fc3.bias', Parameter containing:\n",
      "tensor([-0.2554, -0.3805,  0.3627], requires_grad=True))\n"
     ]
    }
   ],
   "source": [
    "for i in model.named_parameters():\n",
    "    print(i)"
   ]
  },
  {
   "cell_type": "code",
   "execution_count": null,
   "metadata": {},
   "outputs": [],
   "source": []
  },
  {
   "cell_type": "code",
   "execution_count": 12,
   "metadata": {},
   "outputs": [
    {
     "name": "stdout",
     "output_type": "stream",
     "text": [
      "Begin training.\n"
     ]
    },
    {
     "data": {
      "application/vnd.jupyter.widget-view+json": {
       "model_id": "6c9509c933c04090a03c4cfe90d52ce4",
       "version_major": 2,
       "version_minor": 0
      },
      "text/plain": [
       "HBox(children=(FloatProgress(value=0.0, max=2.0), HTML(value='')))"
      ]
     },
     "metadata": {},
     "output_type": "display_data"
    },
    {
     "name": "stdout",
     "output_type": "stream",
     "text": [
      "torch.Size([8, 6])\n",
      "torch.Size([8, 6])\n",
      "torch.Size([8, 6])\n",
      "torch.Size([8, 6])\n",
      "torch.Size([8, 6])\n",
      "torch.Size([8, 6])\n",
      "torch.Size([8, 6])\n",
      "torch.Size([8, 6])\n",
      "torch.Size([8, 6])\n",
      "torch.Size([8, 6])\n",
      "torch.Size([8, 6])\n",
      "torch.Size([8, 6])\n",
      "torch.Size([8, 6])\n",
      "torch.Size([8, 6])\n",
      "torch.Size([8, 6])\n",
      "torch.Size([8, 6])\n",
      "Epoch 001: | Train Loss: 1.06078\n",
      "torch.Size([8, 6])\n",
      "torch.Size([8, 6])\n",
      "torch.Size([8, 6])\n",
      "torch.Size([8, 6])\n",
      "torch.Size([8, 6])\n",
      "torch.Size([8, 6])\n",
      "torch.Size([8, 6])\n",
      "torch.Size([8, 6])\n",
      "torch.Size([8, 6])\n",
      "torch.Size([8, 6])\n",
      "torch.Size([8, 6])\n",
      "torch.Size([8, 6])\n",
      "torch.Size([8, 6])\n",
      "torch.Size([8, 6])\n",
      "torch.Size([8, 6])\n",
      "torch.Size([8, 6])\n",
      "Epoch 002: | Train Loss: 0.88591\n",
      "\n"
     ]
    }
   ],
   "source": [
    "print(\"Begin training.\")\n",
    "\n",
    "for e in tqdm(range(1, 3)):\n",
    "    \n",
    "    # TRAINING\n",
    "    epoch_loss = 0\n",
    "    \n",
    "    model.train()\n",
    "    for X_batch, y_batch in train_dataloader:\n",
    "\n",
    "        optimizer.zero_grad()\n",
    "        \n",
    "        y_pred = model(X_batch)        \n",
    "        \n",
    "        loss = criterion(y_pred, y_batch)\n",
    "        \n",
    "        loss.backward()\n",
    "        optimizer.step()      \n",
    "        \n",
    "        epoch_loss += loss.item()\n",
    "        \n",
    "                              \n",
    "    \n",
    "    print(f'Epoch {e+0:03}: | Train Loss: {epoch_loss/len(train_dataloader):.5f}')"
   ]
  },
  {
   "cell_type": "markdown",
   "metadata": {},
   "source": [
    "We can print out certain information about this model. Let's see what we can do."
   ]
  },
  {
   "cell_type": "code",
   "execution_count": 13,
   "metadata": {},
   "outputs": [
    {
     "name": "stdout",
     "output_type": "stream",
     "text": [
      "fc1.weight   :   torch.Size([5, 4])\n",
      "fc1.bias   :   torch.Size([5])\n",
      "fc2.weight   :   torch.Size([6, 5])\n",
      "fc2.bias   :   torch.Size([6])\n",
      "fc3.weight   :   torch.Size([3, 6])\n",
      "fc3.bias   :   torch.Size([3])\n"
     ]
    }
   ],
   "source": [
    "for params in model.named_parameters():\n",
    "    print(params[0], \"  :  \", params[1].shape)"
   ]
  },
  {
   "cell_type": "code",
   "execution_count": 14,
   "metadata": {},
   "outputs": [
    {
     "data": {
      "text/plain": [
       "tensor([[ 0.0258, -0.0085, -0.0059,  0.0323,  0.0109, -0.0211],\n",
       "        [-0.0258, -0.0119, -0.0003, -0.0166, -0.0071,  0.0189],\n",
       "        [-0.0260, -0.0123, -0.0004, -0.0165, -0.0071,  0.0190],\n",
       "        [ 0.0246, -0.0108, -0.0065,  0.0330,  0.0109, -0.0205],\n",
       "        [-0.0270, -0.0133, -0.0006, -0.0168, -0.0073,  0.0197],\n",
       "        [ 0.0258, -0.0095, -0.0062,  0.0332,  0.0111, -0.0212],\n",
       "        [ 0.0234, -0.0123, -0.0068,  0.0329,  0.0107, -0.0197],\n",
       "        [-0.0259, -0.0123, -0.0004, -0.0165, -0.0071,  0.0190]])"
      ]
     },
     "execution_count": 14,
     "metadata": {},
     "output_type": "execute_result"
    }
   ],
   "source": [
    "model.gradient"
   ]
  },
  {
   "cell_type": "code",
   "execution_count": null,
   "metadata": {},
   "outputs": [],
   "source": []
  },
  {
   "cell_type": "code",
   "execution_count": 15,
   "metadata": {},
   "outputs": [
    {
     "data": {
      "text/plain": [
       "IrisClassifier(\n",
       "  (fc1): Linear(in_features=4, out_features=5, bias=True)\n",
       "  (fc2): Linear(in_features=5, out_features=6, bias=True)\n",
       "  (fc3): Linear(in_features=6, out_features=3, bias=True)\n",
       "  (relu): ReLU()\n",
       ")"
      ]
     },
     "execution_count": 15,
     "metadata": {},
     "output_type": "execute_result"
    }
   ],
   "source": [
    "model.eval()"
   ]
  },
  {
   "cell_type": "code",
   "execution_count": 17,
   "metadata": {},
   "outputs": [],
   "source": [
    "test_dataloader_iter = iter(test_dataloader)"
   ]
  },
  {
   "cell_type": "code",
   "execution_count": 18,
   "metadata": {},
   "outputs": [],
   "source": [
    "test_sample, test_label = next(test_dataloader_iter)"
   ]
  },
  {
   "cell_type": "code",
   "execution_count": 20,
   "metadata": {},
   "outputs": [
    {
     "data": {
      "text/plain": [
       "torch.Size([1, 3])"
      ]
     },
     "execution_count": 20,
     "metadata": {},
     "output_type": "execute_result"
    }
   ],
   "source": [
    "pred = model(test_sample)\n",
    "pred.shape"
   ]
  },
  {
   "cell_type": "code",
   "execution_count": 22,
   "metadata": {},
   "outputs": [
    {
     "data": {
      "text/plain": [
       "tensor([[0.1072, 0.3800, 0.5129]], grad_fn=<SoftmaxBackward>)"
      ]
     },
     "execution_count": 22,
     "metadata": {},
     "output_type": "execute_result"
    }
   ],
   "source": [
    "pred = F.softmax(pred, dim = 1)\n",
    "pred"
   ]
  },
  {
   "cell_type": "code",
   "execution_count": 24,
   "metadata": {},
   "outputs": [
    {
     "name": "stdout",
     "output_type": "stream",
     "text": [
      "torch.Size([1, 6])\n"
     ]
    }
   ],
   "source": [
    "pred[:, 1].backward()"
   ]
  },
  {
   "cell_type": "code",
   "execution_count": 25,
   "metadata": {},
   "outputs": [
    {
     "data": {
      "text/plain": [
       "tensor([[-0.0836,  0.0213,  0.0171, -0.0991, -0.0347,  0.0680]])"
      ]
     },
     "execution_count": 25,
     "metadata": {},
     "output_type": "execute_result"
    }
   ],
   "source": [
    "model.gradient"
   ]
  },
  {
   "cell_type": "code",
   "execution_count": null,
   "metadata": {},
   "outputs": [],
   "source": []
  }
 ],
 "metadata": {
  "kernelspec": {
   "display_name": "Python 3",
   "language": "python",
   "name": "python3"
  },
  "language_info": {
   "codemirror_mode": {
    "name": "ipython",
    "version": 3
   },
   "file_extension": ".py",
   "mimetype": "text/x-python",
   "name": "python",
   "nbconvert_exporter": "python",
   "pygments_lexer": "ipython3",
   "version": "3.6.10"
  }
 },
 "nbformat": 4,
 "nbformat_minor": 4
}
