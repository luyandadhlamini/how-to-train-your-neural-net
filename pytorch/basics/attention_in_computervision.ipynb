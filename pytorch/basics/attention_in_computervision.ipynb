{
 "cells": [
  {
   "cell_type": "markdown",
   "metadata": {},
   "source": [
    "# Basics | Multi Headed Attention in Computer Vision\n",
    "\n",
    "By [Akshaj Verma](https://akshajverma.com)\n",
    "\n",
    "This notebook takes you through the different types of attention methods wrt computer vision using PyTorch."
   ]
  },
  {
   "cell_type": "code",
   "execution_count": 1,
   "metadata": {},
   "outputs": [],
   "source": [
    "import numpy as np\n",
    "\n",
    "import torch\n",
    "import torchvision\n",
    "import torch.nn as nn\n",
    "import torch.optim as optim\n",
    "import torch.nn.functional as F\n",
    "from torchvision import transforms, utils"
   ]
  },
  {
   "cell_type": "markdown",
   "metadata": {},
   "source": [
    "## Self Attention for Images"
   ]
  },
  {
   "cell_type": "markdown",
   "metadata": {},
   "source": [
    "Let's define a tensor that we obtain after passing an image throught multiple conv layers. \n",
    "\n",
    "Let the size of this tensor be `(4, 5, 5)`. This means that our image (latent representation after mulitple conv operations) is of size `(5 x 5)` and has `4` channels."
   ]
  },
  {
   "cell_type": "markdown",
   "metadata": {},
   "source": [
    "![Self attention in SAGAN paper](../../assets/sagan_att.png)"
   ]
  },
  {
   "cell_type": "markdown",
   "metadata": {},
   "source": [
    "[Reference](https://arxiv.org/pdf/1905.08008v1.pdf)"
   ]
  },
  {
   "cell_type": "code",
   "execution_count": 2,
   "metadata": {},
   "outputs": [],
   "source": [
    "img = [float(i) for i in range(100)]\n",
    "img = torch.tensor(img)"
   ]
  },
  {
   "cell_type": "code",
   "execution_count": 3,
   "metadata": {},
   "outputs": [
    {
     "data": {
      "text/plain": [
       "tensor([[[ 0.,  1.,  2.,  3.,  4.],\n",
       "         [ 5.,  6.,  7.,  8.,  9.],\n",
       "         [10., 11., 12., 13., 14.],\n",
       "         [15., 16., 17., 18., 19.],\n",
       "         [20., 21., 22., 23., 24.]],\n",
       "\n",
       "        [[25., 26., 27., 28., 29.],\n",
       "         [30., 31., 32., 33., 34.],\n",
       "         [35., 36., 37., 38., 39.],\n",
       "         [40., 41., 42., 43., 44.],\n",
       "         [45., 46., 47., 48., 49.]],\n",
       "\n",
       "        [[50., 51., 52., 53., 54.],\n",
       "         [55., 56., 57., 58., 59.],\n",
       "         [60., 61., 62., 63., 64.],\n",
       "         [65., 66., 67., 68., 69.],\n",
       "         [70., 71., 72., 73., 74.]],\n",
       "\n",
       "        [[75., 76., 77., 78., 79.],\n",
       "         [80., 81., 82., 83., 84.],\n",
       "         [85., 86., 87., 88., 89.],\n",
       "         [90., 91., 92., 93., 94.],\n",
       "         [95., 96., 97., 98., 99.]]])"
      ]
     },
     "execution_count": 3,
     "metadata": {},
     "output_type": "execute_result"
    }
   ],
   "source": [
    "img = img.view([4, 5, 5])\n",
    "img"
   ]
  },
  {
   "cell_type": "markdown",
   "metadata": {},
   "source": [
    "We `unsqueeze(0)` to add a dimension of 1 at index 0. This dimension corresponds to the batch size. \n",
    "We do it because `nn.Conv2d()` requires it."
   ]
  },
  {
   "cell_type": "code",
   "execution_count": 4,
   "metadata": {},
   "outputs": [
    {
     "data": {
      "text/plain": [
       "torch.Size([1, 4, 5, 5])"
      ]
     },
     "execution_count": 4,
     "metadata": {},
     "output_type": "execute_result"
    }
   ],
   "source": [
    "input_img = img.unsqueeze(0)\n",
    "input_img.shape"
   ]
  },
  {
   "cell_type": "markdown",
   "metadata": {},
   "source": [
    "We will now pass this image representation through `3` conv operations with `1x1` filters. This will give use `3` different representations. Each of these `3` representations will have `2` channels (let's say). So, we have effectively reduced the number of channels from `4` to `2` using `1x1` conv filters."
   ]
  },
  {
   "cell_type": "code",
   "execution_count": 5,
   "metadata": {},
   "outputs": [],
   "source": [
    "cnn_f = nn.Conv2d(in_channels=4, out_channels=2, kernel_size=1, stride=1)\n",
    "cnn_g = nn.Conv2d(in_channels=4, out_channels=2, kernel_size=1, stride=1)\n",
    "cnn_h = nn.Conv2d(in_channels=4, out_channels=4, kernel_size=1, stride=1)"
   ]
  },
  {
   "cell_type": "code",
   "execution_count": 6,
   "metadata": {},
   "outputs": [
    {
     "name": "stdout",
     "output_type": "stream",
     "text": [
      "op_cnn_f:  torch.Size([1, 2, 5, 5])\n",
      "op_cnn_g:  torch.Size([1, 2, 5, 5])\n",
      "op_cnn_h:  torch.Size([1, 4, 5, 5])\n"
     ]
    }
   ],
   "source": [
    "f = cnn_f(input_img) # B x C/k x H x W\n",
    "g = cnn_g(input_img) # B x C/k x H x W\n",
    "h = cnn_h(input_img) # B x C x H x W\n",
    "\n",
    "print(\"op_cnn_f: \", f.shape)\n",
    "print(\"op_cnn_g: \", g.shape)\n",
    "print(\"op_cnn_h: \", h.shape)"
   ]
  },
  {
   "cell_type": "markdown",
   "metadata": {},
   "source": [
    "Now, we will flatten out the image. So, our image representation will now have the shape - `B x C x W*H` where `N = H * W`.\n",
    "\n",
    "\n",
    "We will decrease the channels by a factor of `k` for both `f` and `g`. For `h`, we will keep the number of channels the same."
   ]
  },
  {
   "cell_type": "code",
   "execution_count": 7,
   "metadata": {},
   "outputs": [
    {
     "name": "stdout",
     "output_type": "stream",
     "text": [
      "changed shape of f:  torch.Size([1, 2, 25])\n",
      "changed shape of g:  torch.Size([1, 2, 25])\n",
      "changed shape of h:  torch.Size([1, 4, 25])\n"
     ]
    }
   ],
   "source": [
    "f = f.view(1, 2, -1) # B x C/k x N\n",
    "g = g.view(1, 2, -1) # B x C/k x N\n",
    "h = h.view(1, 4, -1) # B x C x N\n",
    "\n",
    "print(\"changed shape of f: \", f.shape)\n",
    "print(\"changed shape of g: \", g.shape)\n",
    "print(\"changed shape of h: \", h.shape)"
   ]
  },
  {
   "cell_type": "markdown",
   "metadata": {},
   "source": [
    "Now, we will perform matrix multiplication on `f` and `g`. The output of this matrix multiplication should be = `B x N x N`. \n",
    "\n",
    "Current shapes:  \n",
    "`f` = `B x C x N`  \n",
    "`g` = `B x C x N`\n",
    "\n",
    "\n",
    "For `f @ g` to have the shape `B x N x N`, we will transpose `f` so that its shape becomes `f` = `B x N x C`. "
   ]
  },
  {
   "cell_type": "code",
   "execution_count": 8,
   "metadata": {},
   "outputs": [
    {
     "data": {
      "text/plain": [
       "torch.Size([1, 25, 2])"
      ]
     },
     "execution_count": 8,
     "metadata": {},
     "output_type": "execute_result"
    }
   ],
   "source": [
    "ft = f.permute(0, 2, 1) # B x N x C/k\n",
    "ft.shape"
   ]
  },
  {
   "cell_type": "markdown",
   "metadata": {},
   "source": [
    "We will perform matrix multiplication of `f` (transposed) and `g` to obtain `s`. \n",
    "\n",
    "`s = f.T @ g`"
   ]
  },
  {
   "cell_type": "code",
   "execution_count": 9,
   "metadata": {},
   "outputs": [
    {
     "data": {
      "text/plain": [
       "torch.Size([1, 25, 25])"
      ]
     },
     "execution_count": 9,
     "metadata": {},
     "output_type": "execute_result"
    }
   ],
   "source": [
    "s = torch.bmm(ft, g) # B x N x N\n",
    "s.shape"
   ]
  },
  {
   "cell_type": "code",
   "execution_count": 10,
   "metadata": {},
   "outputs": [
    {
     "name": "stdout",
     "output_type": "stream",
     "text": [
      "torch.Size([2, 3, 3])\n",
      "tensor([[[1., 2., 3.],\n",
      "         [4., 5., 6.],\n",
      "         [7., 8., 9.]],\n",
      "\n",
      "        [[1., 2., 3.],\n",
      "         [4., 5., 6.],\n",
      "         [7., 8., 9.]]])\n"
     ]
    }
   ],
   "source": [
    "a = torch.tensor([[[1., 2., 3.], [4., 5., 6.], [7., 8., 9.]], [[1., 2., 3.], [4., 5., 6.], [7., 8., 9.]]])\n",
    "print(a.shape)\n",
    "print(a)"
   ]
  },
  {
   "cell_type": "markdown",
   "metadata": {},
   "source": [
    "Now, we'll pass `s` through a softmax function to obtain the attention map denoted by `b`. Softmax is taken at the last dimension."
   ]
  },
  {
   "cell_type": "code",
   "execution_count": 11,
   "metadata": {},
   "outputs": [
    {
     "data": {
      "text/plain": [
       "torch.Size([1, 25, 25])"
      ]
     },
     "execution_count": 11,
     "metadata": {},
     "output_type": "execute_result"
    }
   ],
   "source": [
    "b = F.softmax(s, dim = -1) # B x N x N\n",
    "b.shape"
   ]
  },
  {
   "cell_type": "markdown",
   "metadata": {},
   "source": [
    "After this, we will now perform matrix multiplication between `h` and the `attention_map`."
   ]
  },
  {
   "cell_type": "code",
   "execution_count": 12,
   "metadata": {},
   "outputs": [
    {
     "name": "stdout",
     "output_type": "stream",
     "text": [
      "Shape of h: \n",
      "torch.Size([1, 4, 25])\n",
      "\n",
      "Shape of attention map b: \n",
      "torch.Size([1, 25, 25])\n"
     ]
    }
   ],
   "source": [
    "print(f\"Shape of h: \\n{h.shape}\\n\")\n",
    "print(f\"Shape of attention map b: \\n{b.shape}\")"
   ]
  },
  {
   "cell_type": "markdown",
   "metadata": {},
   "source": [
    "Finally, we calculate `o` where `o = h @ b`."
   ]
  },
  {
   "cell_type": "code",
   "execution_count": 13,
   "metadata": {},
   "outputs": [
    {
     "data": {
      "text/plain": [
       "torch.Size([1, 4, 25])"
      ]
     },
     "execution_count": 13,
     "metadata": {},
     "output_type": "execute_result"
    }
   ],
   "source": [
    "# h : B x C x N\n",
    "# b : B x N x N\n",
    "\n",
    "hb = torch.bmm(h, b) # B x C x N \n",
    "hb.shape"
   ]
  },
  {
   "cell_type": "markdown",
   "metadata": {},
   "source": [
    "Finally, we will now pass this `hb` through a `1 x 1 ` Conv layer to obtain `o`. \n",
    "\n",
    "`o` is the output of this attention module. \n",
    "\n",
    "\n",
    "Before we do that, we need to first convert our `B x C x N` representation back to `B x C x H x W`. "
   ]
  },
  {
   "cell_type": "code",
   "execution_count": 14,
   "metadata": {},
   "outputs": [
    {
     "data": {
      "text/plain": [
       "torch.Size([1, 4, 5, 5])"
      ]
     },
     "execution_count": 14,
     "metadata": {},
     "output_type": "execute_result"
    }
   ],
   "source": [
    "hb_reshaped = hb.view(input_img.shape) # B x C x H x W\n",
    "hb_reshaped.shape"
   ]
  },
  {
   "cell_type": "code",
   "execution_count": 15,
   "metadata": {},
   "outputs": [],
   "source": [
    "cnn_o = nn.Conv2d(in_channels=4, out_channels=4, kernel_size=1, stride=1)"
   ]
  },
  {
   "cell_type": "code",
   "execution_count": 16,
   "metadata": {},
   "outputs": [
    {
     "data": {
      "text/plain": [
       "torch.Size([1, 4, 5, 5])"
      ]
     },
     "execution_count": 16,
     "metadata": {},
     "output_type": "execute_result"
    }
   ],
   "source": [
    "o = cnn_o(hb_reshaped) # B x C x H x W\n",
    "o.shape"
   ]
  }
 ],
 "metadata": {
  "kernelspec": {
   "display_name": "Python 3",
   "language": "python",
   "name": "python3"
  },
  "language_info": {
   "codemirror_mode": {
    "name": "ipython",
    "version": 3
   },
   "file_extension": ".py",
   "mimetype": "text/x-python",
   "name": "python",
   "nbconvert_exporter": "python",
   "pygments_lexer": "ipython3",
   "version": "3.6.10"
  }
 },
 "nbformat": 4,
 "nbformat_minor": 4
}
