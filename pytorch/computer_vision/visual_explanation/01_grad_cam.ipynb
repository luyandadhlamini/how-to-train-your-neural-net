{
 "cells": [
  {
   "cell_type": "markdown",
   "metadata": {},
   "source": [
    "# Vision - GradCam for Image Classification\n",
    "\n",
    "By [Akshaj Verma](https://akshajverma.com)\n",
    "\n",
    "This notebook takes you through the implementation of GradCAM applied to a multiclass image-classification model built using ConvNets for the MNIST dataset on PyTorch."
   ]
  },
  {
   "cell_type": "code",
   "execution_count": 145,
   "metadata": {},
   "outputs": [],
   "source": [
    "import numpy as np\n",
    "import pandas as pd\n",
    "\n",
    "import cv2\n",
    "from PIL import Image\n",
    "import seaborn as sns\n",
    "from tqdm.notebook import tqdm\n",
    "import matplotlib.pyplot as plt\n",
    "\n",
    "\n",
    "import torch\n",
    "import torchvision\n",
    "import torch.nn as nn\n",
    "import torch.optim as optim\n",
    "import torch.nn.functional as F\n",
    "from torchvision import transforms, utils, datasets\n",
    "from torch.utils.data import Dataset, DataLoader, random_split, SubsetRandomSampler\n",
    "\n",
    "\n",
    "from sklearn.metrics import classification_report, confusion_matrix"
   ]
  },
  {
   "cell_type": "code",
   "execution_count": 2,
   "metadata": {},
   "outputs": [
    {
     "data": {
      "text/plain": [
       "<torch._C.Generator at 0x7f2ef8554950>"
      ]
     },
     "execution_count": 2,
     "metadata": {},
     "output_type": "execute_result"
    }
   ],
   "source": [
    "np.random.seed(0)\n",
    "torch.manual_seed(0)"
   ]
  },
  {
   "cell_type": "code",
   "execution_count": 3,
   "metadata": {},
   "outputs": [],
   "source": [
    "%matplotlib inline\n",
    "sns.set_style('darkgrid')"
   ]
  },
  {
   "cell_type": "markdown",
   "metadata": {},
   "source": [
    "## Define Paths and Set GPU"
   ]
  },
  {
   "cell_type": "markdown",
   "metadata": {},
   "source": [
    "Let's define the path for our data."
   ]
  },
  {
   "cell_type": "code",
   "execution_count": 4,
   "metadata": {},
   "outputs": [
    {
     "name": "stdout",
     "output_type": "stream",
     "text": [
      "We're using => cuda\n",
      "The data lies here => ../../../data/computer_vision/mnist\n"
     ]
    }
   ],
   "source": [
    "device = torch.device(\"cuda\" if torch.cuda.is_available() else \"cpu\")\n",
    "print(\"We're using =>\", device)\n",
    "\n",
    "root_dir = \"../../../data/computer_vision/mnist\"\n",
    "print(\"The data lies here =>\", root_dir)"
   ]
  },
  {
   "cell_type": "markdown",
   "metadata": {},
   "source": [
    "## Define transforms"
   ]
  },
  {
   "cell_type": "markdown",
   "metadata": {},
   "source": [
    "Let's define a dictionary to hold the image transformations for train/test sets. The `ToTensor` operation in PyTorch convert all tensors to lie between `(0, 1)`. \n",
    "\n",
    "> `ToTensor` converts a PIL Image or `numpy.ndarray` of shape `(H x W x C)` in the range `[0, 255]` to a `torch.FloatTensor` of shape `(C x H x W)` in the range `[0.0, 1.0]`."
   ]
  },
  {
   "cell_type": "code",
   "execution_count": 5,
   "metadata": {},
   "outputs": [],
   "source": [
    "image_transforms = {\n",
    "    \"train\": transforms.Compose([\n",
    "        transforms.ToTensor()\n",
    "    ]),\n",
    "    \"test\": transforms.Compose([\n",
    "        transforms.ToTensor()\n",
    "    ])\n",
    "}"
   ]
  },
  {
   "cell_type": "markdown",
   "metadata": {},
   "source": [
    "## Initialize Datasets"
   ]
  },
  {
   "cell_type": "markdown",
   "metadata": {},
   "source": [
    "### Train + Validation Dataset"
   ]
  },
  {
   "cell_type": "markdown",
   "metadata": {},
   "source": [
    "We 2 dataset folders with us - **Train** and **Test**. \n",
    "\n",
    "We will further divide our **Train** set as **Train + Val**. "
   ]
  },
  {
   "cell_type": "code",
   "execution_count": 6,
   "metadata": {},
   "outputs": [
    {
     "data": {
      "text/plain": [
       "Dataset MNIST\n",
       "    Number of datapoints: 60000\n",
       "    Root location: ../../../data/computer_vision/mnist\n",
       "    Split: Train\n",
       "    StandardTransform\n",
       "Transform: Compose(\n",
       "               ToTensor()\n",
       "           )"
      ]
     },
     "execution_count": 6,
     "metadata": {},
     "output_type": "execute_result"
    }
   ],
   "source": [
    "mnist_dataset = datasets.MNIST(root_dir, train=True, download=False, transform=image_transforms[\"train\"])\n",
    "\n",
    "mnist_dataset"
   ]
  },
  {
   "cell_type": "markdown",
   "metadata": {},
   "source": [
    "### Class <=> ID Mapping of Output"
   ]
  },
  {
   "cell_type": "markdown",
   "metadata": {},
   "source": [
    "The `class_to_idx` function is pre-built in PyTorch. It returns class ID's present in the dataset."
   ]
  },
  {
   "cell_type": "code",
   "execution_count": 7,
   "metadata": {},
   "outputs": [
    {
     "data": {
      "text/plain": [
       "{'0 - zero': 0,\n",
       " '1 - one': 1,\n",
       " '2 - two': 2,\n",
       " '3 - three': 3,\n",
       " '4 - four': 4,\n",
       " '5 - five': 5,\n",
       " '6 - six': 6,\n",
       " '7 - seven': 7,\n",
       " '8 - eight': 8,\n",
       " '9 - nine': 9}"
      ]
     },
     "execution_count": 7,
     "metadata": {},
     "output_type": "execute_result"
    }
   ],
   "source": [
    "mnist_dataset.class_to_idx"
   ]
  },
  {
   "cell_type": "markdown",
   "metadata": {},
   "source": [
    "We will now construct a reverse of this dictionary; a mapping of ID to class. "
   ]
  },
  {
   "cell_type": "code",
   "execution_count": 8,
   "metadata": {},
   "outputs": [
    {
     "data": {
      "text/plain": [
       "{0: '0 - zero',\n",
       " 1: '1 - one',\n",
       " 2: '2 - two',\n",
       " 3: '3 - three',\n",
       " 4: '4 - four',\n",
       " 5: '5 - five',\n",
       " 6: '6 - six',\n",
       " 7: '7 - seven',\n",
       " 8: '8 - eight',\n",
       " 9: '9 - nine'}"
      ]
     },
     "execution_count": 8,
     "metadata": {},
     "output_type": "execute_result"
    }
   ],
   "source": [
    "idx2class = {v: k for k, v in mnist_dataset.class_to_idx.items()}\n",
    "idx2class"
   ]
  },
  {
   "cell_type": "markdown",
   "metadata": {},
   "source": [
    "Let's also write a function that takes in a dataset object and returns a dictionary that contains the count of class samples. We will use this dictionary to contruct plots and observe the class distribution in our data.\n",
    "\n",
    "`get_class_distribution()` takes in an argument called `dataset_obj`. \n",
    "\n",
    "* We first initialize a `count_dict` dictionary where counts of all classes are initialised to 0. \n",
    "* Then, let's iterate through the dataset and increment the counter by 1 for every class label encountered in the loop.\n",
    "\n",
    "\n",
    "`plot_from_dict()` takes in 3 arguments: a dictionary called `dict_obj`, `plot_title`, and `**kwargs`. We pass in `**kwargs` because later on, we will constuct subplots which require passing the `ax` argument in seaborn. \n",
    "\n",
    "* First convert the dictionary to a dataframe. \n",
    "* Melt the dataframe and plot."
   ]
  },
  {
   "cell_type": "code",
   "execution_count": 9,
   "metadata": {},
   "outputs": [],
   "source": [
    "def get_class_distribution(dataset_obj):\n",
    "    count_dict = {k:0 for k,v in dataset_obj.class_to_idx.items()}\n",
    "    \n",
    "    for _, label_id in dataset_obj:\n",
    "        label = idx2class[label_id]\n",
    "        count_dict[label] += 1\n",
    "    return count_dict\n",
    "\n",
    "\n",
    "def plot_from_dict(dict_obj, plot_title, **kwargs):\n",
    "    return sns.barplot(data = pd.DataFrame.from_dict([dict_obj]).melt(), x = \"variable\", y=\"value\", hue=\"variable\", **kwargs).set_title(plot_title)"
   ]
  },
  {
   "cell_type": "code",
   "execution_count": 10,
   "metadata": {},
   "outputs": [
    {
     "data": {
      "text/plain": [
       "Text(0.5, 1.0, 'Entire Dataset (before train/val/test split)')"
      ]
     },
     "execution_count": 10,
     "metadata": {},
     "output_type": "execute_result"
    },
    {
     "data": {
      "image/png": "[encoded data removed]",
      "text/plain": [
       "<Figure size 1080x576 with 1 Axes>"
      ]
     },
     "metadata": {},
     "output_type": "display_data"
    }
   ],
   "source": [
    "plt.figure(figsize=(15,8))\n",
    "plot_from_dict(get_class_distribution(mnist_dataset), plot_title=\"Entire Dataset (before train/val/test split)\")"
   ]
  },
  {
   "cell_type": "markdown",
   "metadata": {},
   "source": [
    "### Get Train and Validation Samples"
   ]
  },
  {
   "cell_type": "markdown",
   "metadata": {},
   "source": [
    "We use `SubsetRandomSampler` to make our train and validation loaders. `SubsetRandomSampler` is used so that our each batch receives a random distribution of classes. \n",
    "\n",
    "We could've also split our dataset into 2 parts - train and val ie. make 2 `Subsets`. But this is simpler because our data loader will pretty much handle everything now.\n",
    "\n",
    "\n",
    "\n",
    "`SubsetRandomSampler(indices)` takes as input the indices of data.\n",
    "\n",
    "We first create our samplers and then we'll pass it to our dataloaders.\n",
    "\n",
    "* Create a list of indices.\n",
    "* Shuffle the indices.\n",
    "* Split the indices based on train-val percentage.\n",
    "* Create SubsetRandomSampler."
   ]
  },
  {
   "cell_type": "markdown",
   "metadata": {},
   "source": [
    "Create a list of indices from 0 to length of dataset."
   ]
  },
  {
   "cell_type": "code",
   "execution_count": 11,
   "metadata": {},
   "outputs": [],
   "source": [
    "mnist_dataset_size = len(mnist_dataset)\n",
    "mnist_dataset_indices = list(range(mnist_dataset_size))"
   ]
  },
  {
   "cell_type": "markdown",
   "metadata": {},
   "source": [
    "Shuffle the list of indices using np.shuffle."
   ]
  },
  {
   "cell_type": "code",
   "execution_count": 12,
   "metadata": {},
   "outputs": [],
   "source": [
    "np.random.shuffle(mnist_dataset_indices)"
   ]
  },
  {
   "cell_type": "markdown",
   "metadata": {},
   "source": [
    "Create the split index. We choose the split index to be 20% (0.2) of the dataset size."
   ]
  },
  {
   "cell_type": "code",
   "execution_count": 13,
   "metadata": {},
   "outputs": [],
   "source": [
    "val_split_index = int(np.floor(0.2 * mnist_dataset_size))"
   ]
  },
  {
   "cell_type": "markdown",
   "metadata": {},
   "source": [
    "Slice the lists to obtain 2 lists of indices, one for train and other for test.\n",
    "\n",
    "    0-----------val_split_index------------------------------n\n",
    "\n",
    "Train => val_split_index to n\n",
    "\n",
    "Val => 0 to val_split_index"
   ]
  },
  {
   "cell_type": "code",
   "execution_count": 14,
   "metadata": {},
   "outputs": [],
   "source": [
    "train_idx, val_idx = mnist_dataset_indices[val_split_index:], mnist_dataset_indices[:val_split_index]"
   ]
  },
  {
   "cell_type": "markdown",
   "metadata": {},
   "source": [
    "Finally, create samplers."
   ]
  },
  {
   "cell_type": "code",
   "execution_count": 15,
   "metadata": {},
   "outputs": [],
   "source": [
    "train_sampler = SubsetRandomSampler(train_idx)\n",
    "val_sampler = SubsetRandomSampler(val_idx)"
   ]
  },
  {
   "cell_type": "markdown",
   "metadata": {},
   "source": [
    "### Test"
   ]
  },
  {
   "cell_type": "markdown",
   "metadata": {},
   "source": [
    "Now that we're done with train and val data, let's load our test dataset. "
   ]
  },
  {
   "cell_type": "code",
   "execution_count": 16,
   "metadata": {},
   "outputs": [
    {
     "data": {
      "text/plain": [
       "Dataset MNIST\n",
       "    Number of datapoints: 10000\n",
       "    Root location: ../../../data/computer_vision/mnist\n",
       "    Split: Test\n",
       "    StandardTransform\n",
       "Transform: Compose(\n",
       "               ToTensor()\n",
       "           )"
      ]
     },
     "execution_count": 16,
     "metadata": {},
     "output_type": "execute_result"
    }
   ],
   "source": [
    "mnist_dataset_test = datasets.MNIST(root_dir, train=False, download=False, transform=image_transforms[\"test\"])\n",
    "\n",
    "mnist_dataset_test"
   ]
  },
  {
   "cell_type": "markdown",
   "metadata": {},
   "source": [
    "## Train, Validation, and Test Dataloader"
   ]
  },
  {
   "cell_type": "markdown",
   "metadata": {},
   "source": [
    "Now, we will pass the samplers to our dataloader. Note that `shuffle=True` cannot be used when you're using the `SubsetRandomSampler`."
   ]
  },
  {
   "cell_type": "code",
   "execution_count": 17,
   "metadata": {},
   "outputs": [],
   "source": [
    "BATCH_SIZE = 256"
   ]
  },
  {
   "cell_type": "code",
   "execution_count": 18,
   "metadata": {},
   "outputs": [],
   "source": [
    "train_loader = DataLoader(dataset=mnist_dataset, shuffle=False, batch_size=BATCH_SIZE, sampler=train_sampler)\n",
    "val_loader = DataLoader(dataset=mnist_dataset, shuffle=False, batch_size=1, sampler=val_sampler)\n",
    "test_loader = DataLoader(dataset=mnist_dataset_test, shuffle=False, batch_size=1)"
   ]
  },
  {
   "cell_type": "markdown",
   "metadata": {},
   "source": [
    "## Explore The Data"
   ]
  },
  {
   "cell_type": "markdown",
   "metadata": {},
   "source": [
    "To explore our train and val dataloaders, let's create a new function that takes in a dataloader and returns a dictionar with class counts. \n",
    "\n",
    "* Intialize a dictionary `count_dict` to all `0's`.\n",
    "* If the batch_size of the `dataloader_obj` is 1, then loop through the `dataloader_obj` and update the counter. \n",
    "* Else, if the batch_size of the `dataloader_obj` is **not** 1, then loop through the `dataloader_obj` to obtain batches. Loop through the batches to obtain individual tensors. Now, updated the counter accordingly. "
   ]
  },
  {
   "cell_type": "code",
   "execution_count": 19,
   "metadata": {},
   "outputs": [],
   "source": [
    "def get_class_distribution_loaders(dataloader_obj, dataset_obj):\n",
    "    count_dict = {k:0 for k,v in dataset_obj.class_to_idx.items()}\n",
    "    \n",
    "    if dataloader_obj.batch_size == 1:    \n",
    "        for _,label_id in dataloader_obj:\n",
    "            y_idx = label_id.item()\n",
    "            y_lbl = idx2class[y_idx]\n",
    "            count_dict[str(y_lbl)] += 1\n",
    "    else: \n",
    "        for _,label_id in dataloader_obj:\n",
    "            for idx in label_id:\n",
    "                y_idx = idx.item()\n",
    "                y_lbl = idx2class[y_idx]\n",
    "                count_dict[str(y_lbl)] += 1\n",
    "        \n",
    "            \n",
    "    return count_dict"
   ]
  },
  {
   "cell_type": "markdown",
   "metadata": {},
   "source": [
    "To plot the class distributions, we will use the `plot_from_dict()` function defined earlier with the `ax` argument."
   ]
  },
  {
   "cell_type": "code",
   "execution_count": 20,
   "metadata": {},
   "outputs": [
    {
     "data": {
      "text/plain": [
       "Text(0.5, 1.0, 'Val Set')"
      ]
     },
     "execution_count": 20,
     "metadata": {},
     "output_type": "execute_result"
    },
    {
     "data": {
      "image/png": "[encoded data removed]",
      "text/plain": [
       "<Figure size 1296x504 with 2 Axes>"
      ]
     },
     "metadata": {},
     "output_type": "display_data"
    }
   ],
   "source": [
    "fig, axes = plt.subplots(nrows=1, ncols=2, figsize=(18,7))\n",
    "\n",
    "plot_from_dict(get_class_distribution_loaders(train_loader, mnist_dataset), plot_title=\"Train Set\", ax=axes[0])\n",
    "plot_from_dict(get_class_distribution_loaders(val_loader, mnist_dataset), plot_title=\"Val Set\", ax=axes[1])"
   ]
  },
  {
   "cell_type": "markdown",
   "metadata": {},
   "source": [
    "Now that we've looked at the class distributions, Let's now look at a single image."
   ]
  },
  {
   "cell_type": "code",
   "execution_count": 21,
   "metadata": {},
   "outputs": [],
   "source": [
    "single_batch = next(iter(train_loader))"
   ]
  },
  {
   "cell_type": "markdown",
   "metadata": {},
   "source": [
    "`single_batch` is a list of 2 elements. The first element (0th index) contains the image tensors while the second element (1st index) contains the output labels. "
   ]
  },
  {
   "cell_type": "markdown",
   "metadata": {},
   "source": [
    "Here's the first element of the list which is a tensor. This tensor is of the shape `(batch, channels, height, width)`. "
   ]
  },
  {
   "cell_type": "code",
   "execution_count": 22,
   "metadata": {},
   "outputs": [
    {
     "data": {
      "text/plain": [
       "torch.Size([256, 1, 28, 28])"
      ]
     },
     "execution_count": 22,
     "metadata": {},
     "output_type": "execute_result"
    }
   ],
   "source": [
    "single_batch[0].shape"
   ]
  },
  {
   "cell_type": "markdown",
   "metadata": {},
   "source": [
    "Here are the output labels for the batch."
   ]
  },
  {
   "cell_type": "code",
   "execution_count": 23,
   "metadata": {},
   "outputs": [
    {
     "name": "stdout",
     "output_type": "stream",
     "text": [
      "Output label tensor shape:  torch.Size([256])\n",
      "\n",
      "Output label tensors:  tensor([9, 8, 5, 1, 1, 1, 1, 2, 0, 8, 0, 6, 7, 3, 9, 5, 0, 3, 0, 2, 1, 3, 1, 4,\n",
      "        4, 1, 6, 2, 3, 8, 4, 9, 0, 2, 7, 3, 5, 7, 0, 3, 4, 2, 5, 1, 5, 1, 4, 9,\n",
      "        5, 8, 2, 6, 5, 9, 5, 4, 6, 7, 1, 9, 6, 3, 3, 1, 6, 4, 2, 4, 1, 0, 6, 2,\n",
      "        2, 7, 1, 7, 3, 3, 3, 0, 0, 0, 1, 5, 9, 1, 3, 3, 3, 7, 6, 7, 7, 2, 4, 3,\n",
      "        6, 3, 1, 9, 9, 2, 0, 9, 7, 9, 5, 7, 3, 6, 1, 8, 0, 2, 4, 4, 3, 6, 9, 1,\n",
      "        3, 8, 4, 9, 9, 1, 1, 3, 5, 3, 5, 1, 3, 3, 8, 6, 8, 5, 8, 3, 5, 5, 5, 7,\n",
      "        9, 5, 4, 9, 9, 4, 1, 9, 2, 8, 2, 8, 5, 8, 0, 9, 8, 3, 6, 4, 9, 6, 4, 8,\n",
      "        2, 0, 9, 1, 4, 3, 8, 5, 7, 5, 4, 8, 0, 3, 0, 3, 0, 7, 2, 6, 4, 0, 2, 4,\n",
      "        5, 5, 9, 0, 6, 5, 1, 9, 3, 7, 9, 1, 5, 5, 3, 4, 3, 2, 3, 8, 6, 7, 1, 8,\n",
      "        2, 2, 9, 2, 1, 9, 2, 9, 2, 6, 3, 4, 5, 1, 0, 9, 4, 2, 0, 7, 3, 3, 4, 1,\n",
      "        2, 8, 6, 1, 1, 7, 6, 9, 4, 6, 6, 2, 3, 8, 2, 0])\n"
     ]
    }
   ],
   "source": [
    "print(\"Output label tensor shape: \", single_batch[1].shape)\n",
    "print(\"\\nOutput label tensors: \", single_batch[1])"
   ]
  },
  {
   "cell_type": "markdown",
   "metadata": {},
   "source": [
    "To plot the image, we'll use `plt.imshow` from matloptlib. It expects the image dimension to be `(height, width, channels)`. We'll `.permute()` our single image tensor to plot it. "
   ]
  },
  {
   "cell_type": "code",
   "execution_count": 24,
   "metadata": {},
   "outputs": [
    {
     "data": {
      "text/plain": [
       "torch.Size([1, 28, 28])"
      ]
     },
     "execution_count": 24,
     "metadata": {},
     "output_type": "execute_result"
    }
   ],
   "source": [
    "# Selecting the first image tensor from the batch. \n",
    "single_image = single_batch[0][0]\n",
    "single_image.shape"
   ]
  },
  {
   "cell_type": "code",
   "execution_count": 25,
   "metadata": {},
   "outputs": [
    {
     "data": {
      "text/plain": [
       "<matplotlib.image.AxesImage at 0x7f2ed506fac8>"
      ]
     },
     "execution_count": 25,
     "metadata": {},
     "output_type": "execute_result"
    },
    {
     "data": {
      "image/png": "[encoded data removed]",
      "text/plain": [
       "<Figure size 432x288 with 1 Axes>"
      ]
     },
     "metadata": {},
     "output_type": "display_data"
    }
   ],
   "source": [
    "plt.imshow(single_image.squeeze(), cmap='gray')"
   ]
  },
  {
   "cell_type": "markdown",
   "metadata": {},
   "source": [
    "PyTorch has made it easier for us to plot the images in a grid straight from the batch. \n",
    "\n",
    "We first extract out the image tensor from the list (returned by our dataloader) and set `nrow`. Then we use the `plt.imshow()` function to plot our grid. Remember to `.permute()` the tensor dimensions!"
   ]
  },
  {
   "cell_type": "code",
   "execution_count": 26,
   "metadata": {},
   "outputs": [],
   "source": [
    "# We do single_batch[0] because each batch is a list \n",
    "# where the 0th index is the image tensor and 1st index is the output label.\n",
    "single_batch_grid = utils.make_grid(single_batch[0], nrow=4)"
   ]
  },
  {
   "cell_type": "code",
   "execution_count": 27,
   "metadata": {},
   "outputs": [
    {
     "data": {
      "text/plain": [
       "<matplotlib.image.AxesImage at 0x7f2ed50272e8>"
      ]
     },
     "execution_count": 27,
     "metadata": {},
     "output_type": "execute_result"
    },
    {
     "data": {
      "image/png": "[encoded data removed]",
      "text/plain": [
       "<Figure size 864x864 with 1 Axes>"
      ]
     },
     "metadata": {},
     "output_type": "display_data"
    }
   ],
   "source": [
    "plt.figure(figsize = (12,12))\n",
    "plt.imshow(single_batch_grid.permute(1, 2, 0))"
   ]
  },
  {
   "cell_type": "markdown",
   "metadata": {},
   "source": [
    "## Model Details"
   ]
  },
  {
   "cell_type": "markdown",
   "metadata": {},
   "source": [
    "Our architecture is simple. We use 4 blocks of `Conv` layers. Each block consists of `Convolution` + `BatchNorm` + `ReLU` + `Dropout` layers.\n",
    "\n",
    "We will not use an `FC` layer at the end. We'll stick with a `Conv` layer. \n",
    "\n",
    "We will add our `self-attention` layer right before the final `Conv` layer. "
   ]
  },
  {
   "cell_type": "markdown",
   "metadata": {},
   "source": [
    "> #### Converting FC layers to CONV layers - [Source](https://cs231n.github.io/convolutional-networks/#convert)   \n",
    "\n",
    "> * It is worth noting that the only difference between `FC` and `CONV` layers is that the neurons in the `CONV` layer are connected only to a local region  in the input, and that many of the neurons in a CONV volume share parameters. However, the neurons in both layers still compute dot products, so their functional form is identical. Therefore, it turns out that it’s possible to convert between `FC` and `CONV` layers.\n",
    " \n",
    "> * For any `CONV` layer there is an `FC` layer that implements the same forward function. The weight matrix would be a large matrix that is mostly zero except for at certain blocks (due to local connectivity) where the weights in many of the blocks are equal (due to parameter sharing).\n",
    "\n",
    "> * Conversely, any `FC` layer can be converted to a `CONV` layer. For example, an `FC` layer with `K=4096` that is looking at some input volume of size `7×7×512` can be equivalently expressed as a `CONV` layer with `F=7,P=0,S=1,K=4096`.\n",
    "\n",
    "> * In other words, we are setting the filter size to be exactly the size of the input volume, and hence the output will simply be `1×1×4096` since only a single depth column “fits” across the input volume, giving identical result as the initial `FC` layer."
   ]
  },
  {
   "cell_type": "markdown",
   "metadata": {},
   "source": [
    "### Multi-class Accuracy Function"
   ]
  },
  {
   "cell_type": "markdown",
   "metadata": {},
   "source": [
    "Before we start our training, let's define a function to calculate accuracy per epoch. \n",
    "\n",
    "This function takes `y_pred` and `y_test` as input arguments. We then apply softmax to `y_pred` and extract the class which has a higher probability.\n",
    "\n",
    "After that, we compare the the predicted classes and the actual classes to calculate the accuracy."
   ]
  },
  {
   "cell_type": "code",
   "execution_count": 28,
   "metadata": {},
   "outputs": [],
   "source": [
    "def multi_acc(y_pred, y_test):\n",
    "    y_pred_softmax = torch.log_softmax(y_pred, dim = 1)\n",
    "    _, y_pred_tags = torch.max(y_pred_softmax, dim = 1)    \n",
    "    \n",
    "    correct_pred = (y_pred_tags == y_test).float()\n",
    "    acc = correct_pred.sum() / len(correct_pred)\n",
    "    \n",
    "    acc = torch.round(acc) * 100\n",
    "    \n",
    "    return acc"
   ]
  },
  {
   "cell_type": "markdown",
   "metadata": {},
   "source": [
    "### Hyperparameters and Loss Function"
   ]
  },
  {
   "cell_type": "code",
   "execution_count": 163,
   "metadata": {},
   "outputs": [],
   "source": [
    "LEARNING_RATE = 0.01\n",
    "EPOCHS = 10\n",
    "criterion = nn.CrossEntropyLoss()"
   ]
  },
  {
   "cell_type": "markdown",
   "metadata": {},
   "source": [
    "## CNN Model"
   ]
  },
  {
   "cell_type": "markdown",
   "metadata": {},
   "source": [
    "### Architecture"
   ]
  },
  {
   "cell_type": "code",
   "execution_count": 164,
   "metadata": {},
   "outputs": [],
   "source": [
    "class BaselineClassifier(nn.Module):\n",
    "    def __init__(self, num_classes):\n",
    "        super(BaselineClassifier, self).__init__()\n",
    "        \n",
    "        self.conv_block_1 = nn.Sequential(\n",
    "            nn.Conv2d(in_channels=1, out_channels=32, kernel_size=3, stride=1, padding=1),\n",
    "            nn.BatchNorm2d(32),\n",
    "            nn.ReLU(),\n",
    "            nn.Conv2d(in_channels=32, out_channels=32, kernel_size=3, stride=1, padding=1),\n",
    "            nn.BatchNorm2d(32),\n",
    "            nn.ReLU(),\n",
    "            nn.MaxPool2d(kernel_size=2, stride=2)\n",
    "        )\n",
    "\n",
    "        self.conv_block_2 = nn.Sequential(\n",
    "            nn.Conv2d(in_channels=32, out_channels=64, kernel_size=3, stride=1, padding=1),\n",
    "            nn.BatchNorm2d(64),\n",
    "            nn.ReLU(),\n",
    "            nn.Conv2d(in_channels=64, out_channels=64, kernel_size=3, stride=1, padding=1),\n",
    "            nn.BatchNorm2d(64),\n",
    "            nn.ReLU(),\n",
    "            nn.MaxPool2d(kernel_size=2, stride=2)\n",
    "        )\n",
    "                \n",
    "        self.lastcnn = nn.Conv2d(in_channels=64, out_channels=num_classes, kernel_size=7, stride=1, padding=0)\n",
    "        \n",
    "        self.gradients = None\n",
    "        \n",
    "        \n",
    "    def forward(self, x):\n",
    "            \n",
    "        x = self.conv_block_1(x)\n",
    "        x = self.conv_block_2(x)\n",
    "                                       \n",
    "        if x.requires_grad: x.register_hook(self.store_gradients)\n",
    "\n",
    "        x = self.lastcnn(x)\n",
    "        \n",
    "        return x\n",
    "      \n",
    "      \n",
    "    def store_gradients(self, grad):\n",
    "        self.gradients = grad    \n",
    "    \n",
    "    def get_gradients(self):\n",
    "        return self.gradients\n",
    "    \n",
    "    def get_activations(self, x):        \n",
    "        x = self.conv_block_1(x)\n",
    "        x = self.conv_block_2(x)\n",
    "                                    \n",
    "        \n",
    "        return x"
   ]
  },
  {
   "cell_type": "markdown",
   "metadata": {},
   "source": [
    "Now we'll initialize the model, and optimizer.\n",
    "Then we'll transfer the model to GPU. \n",
    "\n",
    "We're using the `nn.CrossEntropyLoss` even though it's a binary classification problem. This means, instead of returning a single output of `1/0`, we'll treat return 2 values of `0 and 1`. More specifically, probabilities of the output being either `1` or `0`.\n",
    "\n",
    "We don't have to manually apply a `log_softmax` layer after our final layer because `nn.CrossEntropyLoss` does that for us.\n",
    "\n",
    "However, we need to apply `log_softmax` for our validation and testing."
   ]
  },
  {
   "cell_type": "markdown",
   "metadata": {},
   "source": [
    "### Initialize Model"
   ]
  },
  {
   "cell_type": "code",
   "execution_count": 165,
   "metadata": {},
   "outputs": [
    {
     "name": "stdout",
     "output_type": "stream",
     "text": [
      "BaselineClassifier(\n",
      "  (conv_block_1): Sequential(\n",
      "    (0): Conv2d(1, 32, kernel_size=(3, 3), stride=(1, 1), padding=(1, 1))\n",
      "    (1): BatchNorm2d(32, eps=1e-05, momentum=0.1, affine=True, track_running_stats=True)\n",
      "    (2): ReLU()\n",
      "    (3): Conv2d(32, 32, kernel_size=(3, 3), stride=(1, 1), padding=(1, 1))\n",
      "    (4): BatchNorm2d(32, eps=1e-05, momentum=0.1, affine=True, track_running_stats=True)\n",
      "    (5): ReLU()\n",
      "    (6): MaxPool2d(kernel_size=2, stride=2, padding=0, dilation=1, ceil_mode=False)\n",
      "  )\n",
      "  (conv_block_2): Sequential(\n",
      "    (0): Conv2d(32, 64, kernel_size=(3, 3), stride=(1, 1), padding=(1, 1))\n",
      "    (1): BatchNorm2d(64, eps=1e-05, momentum=0.1, affine=True, track_running_stats=True)\n",
      "    (2): ReLU()\n",
      "    (3): Conv2d(64, 64, kernel_size=(3, 3), stride=(1, 1), padding=(1, 1))\n",
      "    (4): BatchNorm2d(64, eps=1e-05, momentum=0.1, affine=True, track_running_stats=True)\n",
      "    (5): ReLU()\n",
      "    (6): MaxPool2d(kernel_size=2, stride=2, padding=0, dilation=1, ceil_mode=False)\n",
      "  )\n",
      "  (lastcnn): Conv2d(64, 10, kernel_size=(7, 7), stride=(1, 1))\n",
      ")\n"
     ]
    }
   ],
   "source": [
    "# Baseline model\n",
    "model = BaselineClassifier(num_classes=10)\n",
    "model.to(device)\n",
    "\n",
    "print(model)"
   ]
  },
  {
   "cell_type": "markdown",
   "metadata": {},
   "source": [
    "### Intialize Optimizer"
   ]
  },
  {
   "cell_type": "code",
   "execution_count": 166,
   "metadata": {},
   "outputs": [],
   "source": [
    "optimizer = optim.Adam(model.parameters(), lr=LEARNING_RATE)"
   ]
  },
  {
   "cell_type": "markdown",
   "metadata": {},
   "source": [
    "We'll also define 2 dictionaries which will store the accuracy/epoch and loss/epoch for both train and validation sets."
   ]
  },
  {
   "cell_type": "code",
   "execution_count": 167,
   "metadata": {},
   "outputs": [],
   "source": [
    "accuracy_stats = {\n",
    "    'train': [],\n",
    "    \"val\": []\n",
    "}\n",
    "\n",
    "loss_stats = {\n",
    "    'train': [],\n",
    "    \"val\": []\n",
    "}"
   ]
  },
  {
   "cell_type": "markdown",
   "metadata": {},
   "source": [
    "Let's TRAIN our model!\n",
    "\n",
    "You can see we've put a `model.train()` at the before the loop. `model.train()` tells PyTorch that you're in training mode. Well, why do we need to do that? If you're using layers such as `Dropout` or `BatchNorm` which behave differently during training and evaluation (for eample; not use `dropout` during evalualtion), you need to tell PyTorch to act accordingly. While the default mode in PyTorch is the train, so, you don't explicitly have to write that. But it's good practice.\n",
    "\n",
    "Similarly, we'll call `model.eval()` when we test our model. We'll see that below. Back to training; we start a for-loop. At the top of this for-loop, we initialize our loss and accuracy per epoch to 0. After every epoch, we'll print out the loss/accuracy and reset it back to 0.\n",
    "\n",
    "Then we have another for-loop. This for-loop is used to get our data in batches from the `train_loader`.\n",
    "\n",
    "We do `optimizer.zero_grad()` before we make any predictions. Since the `.backward()` function accumulates gradients, we need to set it to 0 manually per mini-batch. From our defined model, we then obtain a prediction, get the loss(and accuracy) for that mini-batch, perform backpropagation using loss.backward() and optimizer.step().  \n",
    "\n",
    "\n",
    "Finally, we add all the mini-batch losses (and accuracies) to obtain the average loss (and accuracy) for that epoch. We add up all the losses/accuracies for each minibatch and finally divide it by the number of minibatches ie. length of `train_loader` to obtain the average loss/accuracy per epoch.\n",
    "\n",
    "The procedure we follow for training is the exact same for validation except for the fact that we wrap it up in `torch.no_grad` and not perform any backpropagation. `torch.no_grad()` tells PyTorch that we do not want to perform back-propagation, which reduces memory usage and speeds up computation."
   ]
  },
  {
   "cell_type": "markdown",
   "metadata": {},
   "source": [
    "### Start Training"
   ]
  },
  {
   "cell_type": "code",
   "execution_count": 168,
   "metadata": {},
   "outputs": [
    {
     "name": "stdout",
     "output_type": "stream",
     "text": [
      "Begin model training.\n"
     ]
    },
    {
     "data": {
      "application/vnd.jupyter.widget-view+json": {
       "model_id": "b11d16210e4f43a5916f46a615d31d98",
       "version_major": 2,
       "version_minor": 0
      },
      "text/plain": [
       "HBox(children=(FloatProgress(value=0.0, max=10.0), HTML(value='')))"
      ]
     },
     "metadata": {},
     "output_type": "display_data"
    },
    {
     "name": "stdout",
     "output_type": "stream",
     "text": [
      "Epoch 01: | Train Loss: 1.13006 | Val Loss: 0.10829 | Train Acc: 89.894| Val Acc: 100.000\n",
      "Epoch 02: | Train Loss: 0.08131 | Val Loss: 0.08132 | Train Acc: 100.000| Val Acc: 100.000\n",
      "Epoch 03: | Train Loss: 0.05786 | Val Loss: 0.02441 | Train Acc: 100.000| Val Acc: 100.000\n",
      "Epoch 04: | Train Loss: 0.04530 | Val Loss: 0.02384 | Train Acc: 100.000| Val Acc: 100.000\n",
      "Epoch 05: | Train Loss: 0.03732 | Val Loss: 0.03602 | Train Acc: 100.000| Val Acc: 100.000\n",
      "Epoch 06: | Train Loss: 0.03361 | Val Loss: 0.06460 | Train Acc: 100.000| Val Acc: 100.000\n",
      "Epoch 07: | Train Loss: 0.02722 | Val Loss: 0.02189 | Train Acc: 100.000| Val Acc: 100.000\n",
      "Epoch 08: | Train Loss: 0.02182 | Val Loss: 0.00651 | Train Acc: 100.000| Val Acc: 100.000\n",
      "Epoch 09: | Train Loss: 0.02026 | Val Loss: 0.00598 | Train Acc: 100.000| Val Acc: 100.000\n",
      "Epoch 10: | Train Loss: 0.02071 | Val Loss: 0.08239 | Train Acc: 100.000| Val Acc: 100.000\n",
      "\n"
     ]
    }
   ],
   "source": [
    "print(\"Begin model training.\")\n",
    "\n",
    "for e in tqdm(range(1, EPOCHS+1)):\n",
    "    \n",
    "    # TRAINING\n",
    "    train_epoch_loss = 0\n",
    "    train_epoch_acc = 0\n",
    "    \n",
    "    model.train()\n",
    "    for X_train_batch, y_train_batch in train_loader:\n",
    "        X_train_batch, y_train_batch = X_train_batch.to(device), y_train_batch.to(device)\n",
    "        \n",
    "        optimizer.zero_grad()\n",
    "        \n",
    "        y_train_pred = model(X_train_batch).squeeze()\n",
    "                        \n",
    "        train_loss = criterion(y_train_pred, y_train_batch)\n",
    "        train_acc = multi_acc(y_train_pred, y_train_batch)\n",
    "        \n",
    "        train_loss.backward()\n",
    "        optimizer.step()\n",
    "        \n",
    "        train_epoch_loss += train_loss.item()\n",
    "        train_epoch_acc += train_acc.item()\n",
    "        \n",
    "        \n",
    "    # VALIDATION\n",
    "    with torch.no_grad():\n",
    "        model.eval()\n",
    "        val_epoch_loss = 0\n",
    "        val_epoch_acc = 0\n",
    "        for X_val_batch, y_val_batch in val_loader:\n",
    "            X_val_batch, y_val_batch = X_val_batch.to(device), y_val_batch.to(device)\n",
    "            \n",
    "            y_val_pred = model(X_val_batch).squeeze()\n",
    "            \n",
    "            y_val_pred = torch.unsqueeze(y_val_pred, 0)\n",
    "                                    \n",
    "            val_loss = criterion(y_val_pred, y_val_batch)\n",
    "            val_acc = multi_acc(y_val_pred, y_val_batch)\n",
    "            \n",
    "            val_epoch_loss += train_loss.item()\n",
    "            val_epoch_acc += train_acc.item()\n",
    "\n",
    "    \n",
    "        \n",
    "    loss_stats['train'].append(train_epoch_loss/len(train_loader))\n",
    "    loss_stats['val'].append(val_epoch_loss/len(val_loader))\n",
    "    accuracy_stats['train'].append(train_epoch_acc/len(train_loader))\n",
    "    accuracy_stats['val'].append(val_epoch_acc/len(val_loader))\n",
    "                              \n",
    "    \n",
    "    print(f'Epoch {e+0:02}: | Train Loss: {train_epoch_loss/len(train_loader):.5f} | Val Loss: {val_epoch_loss/len(val_loader):.5f} | Train Acc: {train_epoch_acc/len(train_loader):.3f}| Val Acc: {val_epoch_acc/len(val_loader):.3f}')"
   ]
  },
  {
   "cell_type": "markdown",
   "metadata": {},
   "source": [
    "### Visualize Loss and Accuracy\n",
    "\n",
    "To plot the loss and accuracy line plots, we again create a dataframe from the `accuracy_stats` and `loss_stats` dictionaries."
   ]
  },
  {
   "cell_type": "code",
   "execution_count": 169,
   "metadata": {},
   "outputs": [
    {
     "data": {
      "text/plain": [
       "Text(0.5, 1.0, '[Baseline] Train-Val Loss/Epoch')"
      ]
     },
     "execution_count": 169,
     "metadata": {},
     "output_type": "execute_result"
    },
    {
     "data": {
      "image/png": "[encoded data removed]",
      "text/plain": [
       "<Figure size 2160x720 with 2 Axes>"
      ]
     },
     "metadata": {},
     "output_type": "display_data"
    }
   ],
   "source": [
    "train_val_acc_df = pd.DataFrame.from_dict(accuracy_stats).reset_index().melt(id_vars=['index']).rename(columns={\"index\":\"epochs\"})\n",
    "train_val_loss_df = pd.DataFrame.from_dict(loss_stats).reset_index().melt(id_vars=['index']).rename(columns={\"index\":\"epochs\"})\n",
    "\n",
    "fig, axes = plt.subplots(nrows=1, ncols=2, figsize=(30,10))\n",
    "sns.lineplot(data=train_val_acc_df, x = \"epochs\", y=\"value\", hue=\"variable\",  ax=axes[0]).set_title('[Baseline] Train-Val Accuracy/Epoch')\n",
    "sns.lineplot(data=train_val_loss_df, x = \"epochs\", y=\"value\", hue=\"variable\", ax=axes[1]).set_title('[Baseline] Train-Val Loss/Epoch')"
   ]
  },
  {
   "cell_type": "markdown",
   "metadata": {},
   "source": [
    "### Test Model\n",
    "\n",
    "After training is done, we need to test how our model fared. Note that we've used `model.eval()` before we run our testing code.\n",
    "To tell PyTorch that we do not want to perform back-propagation during inference, we use `torch.no_grad()`, just like we did it for the validation loop above.\n",
    "\n",
    "* We start by defining a list that will hold our predictions. Then we loop through our batches using the `test_loader`. For each batch -\n",
    "* We move our input mini-batch to GPU.\n",
    "* We make the predictions using our trained model.\n",
    "* Apply log_softmax activation to the predictions and pick the index of highest probability.\n",
    "* Move the batch to the GPU from the CPU.\n",
    "* Convert the tensor to a numpy object and append it to our list."
   ]
  },
  {
   "cell_type": "code",
   "execution_count": 170,
   "metadata": {},
   "outputs": [
    {
     "data": {
      "application/vnd.jupyter.widget-view+json": {
       "model_id": "9ecf4c8528eb45f299c8026f3d2a541a",
       "version_major": 2,
       "version_minor": 0
      },
      "text/plain": [
       "HBox(children=(FloatProgress(value=0.0, max=10000.0), HTML(value='')))"
      ]
     },
     "metadata": {},
     "output_type": "display_data"
    },
    {
     "name": "stdout",
     "output_type": "stream",
     "text": [
      "\n"
     ]
    }
   ],
   "source": [
    "y_pred_list = []\n",
    "y_true_list = []\n",
    "with torch.no_grad():\n",
    "    model.eval()\n",
    "    for x_batch, y_batch in tqdm(test_loader):\n",
    "        x_batch, y_batch = x_batch.to(device), y_batch.to(device)\n",
    "        \n",
    "        y_test_pred = model(x_batch)\n",
    "        \n",
    "        y_test_pred = torch.log_softmax(y_test_pred, dim=1)\n",
    "        _, y_pred_tag = torch.max(y_test_pred, dim = 1)\n",
    "    \n",
    "        y_pred_list.append(y_pred_tag.cpu().numpy())\n",
    "        y_true_list.append(y_batch.cpu().numpy())"
   ]
  },
  {
   "cell_type": "markdown",
   "metadata": {},
   "source": [
    "We'll flatten out the list so that we can use it as an input to `confusion_matrix` and `classification_report`."
   ]
  },
  {
   "cell_type": "code",
   "execution_count": 171,
   "metadata": {},
   "outputs": [],
   "source": [
    "y_pred_list = [i[0][0][0] for i in y_pred_list]\n",
    "y_true_list = [i[0] for i in y_true_list]"
   ]
  },
  {
   "cell_type": "markdown",
   "metadata": {},
   "source": [
    "### Classification Report"
   ]
  },
  {
   "cell_type": "markdown",
   "metadata": {},
   "source": [
    "Finally, we print out the classification report which contains the precision, recall, and the F1 score."
   ]
  },
  {
   "cell_type": "code",
   "execution_count": 172,
   "metadata": {},
   "outputs": [
    {
     "name": "stdout",
     "output_type": "stream",
     "text": [
      "              precision    recall  f1-score   support\n",
      "\n",
      "           0       0.99      1.00      0.99       980\n",
      "           1       0.99      1.00      1.00      1135\n",
      "           2       0.99      1.00      0.99      1032\n",
      "           3       1.00      0.98      0.99      1010\n",
      "           4       0.99      0.98      0.99       982\n",
      "           5       0.99      0.99      0.99       892\n",
      "           6       0.99      0.99      0.99       958\n",
      "           7       1.00      0.98      0.99      1028\n",
      "           8       1.00      0.98      0.99       974\n",
      "           9       0.98      0.99      0.98      1009\n",
      "\n",
      "    accuracy                           0.99     10000\n",
      "   macro avg       0.99      0.99      0.99     10000\n",
      "weighted avg       0.99      0.99      0.99     10000\n",
      "\n"
     ]
    }
   ],
   "source": [
    "print(classification_report(y_true_list, y_pred_list))"
   ]
  },
  {
   "cell_type": "code",
   "execution_count": 173,
   "metadata": {},
   "outputs": [
    {
     "name": "stdout",
     "output_type": "stream",
     "text": [
      "[[ 978    0    0    0    0    0    1    0    0    1]\n",
      " [   0 1135    0    0    0    0    0    0    0    0]\n",
      " [   0    0 1030    0    0    0    0    2    0    0]\n",
      " [   2    1    2  993    0    8    0    2    1    1]\n",
      " [   0    0    0    0  967    0    4    0    1   10]\n",
      " [   1    1    0    2    0  886    2    0    0    0]\n",
      " [   2    4    0    0    1    0  951    0    0    0]\n",
      " [   0    5    3    1    0    1    0 1010    0    8]\n",
      " [   8    0    5    1    1    2    2    1  951    3]\n",
      " [   1    0    1    0    6    2    0    0    1  998]]\n"
     ]
    }
   ],
   "source": [
    "print(confusion_matrix(y_true_list, y_pred_list))"
   ]
  },
  {
   "cell_type": "markdown",
   "metadata": {},
   "source": [
    "### Confusion Matrix"
   ]
  },
  {
   "cell_type": "markdown",
   "metadata": {},
   "source": [
    "We create a dataframe from the confusion matrix and plot it as a heatmap using the seaborn library."
   ]
  },
  {
   "cell_type": "code",
   "execution_count": 174,
   "metadata": {},
   "outputs": [
    {
     "data": {
      "text/plain": [
       "<matplotlib.axes._subplots.AxesSubplot at 0x7f2e890f69e8>"
      ]
     },
     "execution_count": 174,
     "metadata": {},
     "output_type": "execute_result"
    },
    {
     "data": {
      "image/png": "[encoded data removed]",
      "text/plain": [
       "<Figure size 504x360 with 2 Axes>"
      ]
     },
     "metadata": {},
     "output_type": "display_data"
    }
   ],
   "source": [
    "confusion_matrix_df = pd.DataFrame(confusion_matrix(y_true_list, y_pred_list)).rename(columns=idx2class, index=idx2class)\n",
    "\n",
    "fig, ax = plt.subplots(figsize=(7,5))         \n",
    "sns.heatmap(confusion_matrix_df, annot=True, ax=ax)"
   ]
  },
  {
   "cell_type": "markdown",
   "metadata": {},
   "source": [
    "## Visualize Activation Maps - GradCAM\n",
    "\n",
    "We'll use GradCAM to visualize the activation maps. To use this, we need to define a forward pass pipeline. \n",
    "\n",
    "We'll first define a function that pre-processes an image ie. convert it to a tensor."
   ]
  },
  {
   "cell_type": "code",
   "execution_count": 175,
   "metadata": {},
   "outputs": [],
   "source": [
    "test_images = iter(test_loader)"
   ]
  },
  {
   "cell_type": "code",
   "execution_count": 176,
   "metadata": {},
   "outputs": [
    {
     "name": "stdout",
     "output_type": "stream",
     "text": [
      "Shape of single Image from test set torch.Size([1, 1, 28, 28])\n",
      "Shape of label for the image:  torch.Size([1])\n"
     ]
    }
   ],
   "source": [
    "single_image, single_label = next(test_images)\n",
    "print(\"Shape of single Image from test set\", single_image.shape)\n",
    "print(\"Shape of label for the image: \", single_label.shape)"
   ]
  },
  {
   "cell_type": "code",
   "execution_count": 177,
   "metadata": {},
   "outputs": [
    {
     "name": "stdout",
     "output_type": "stream",
     "text": [
      "pred:  tensor([[[[4.4312e-10]],\n",
      "\n",
      "         [[2.0845e-10]],\n",
      "\n",
      "         [[2.8861e-08]],\n",
      "\n",
      "         [[2.7944e-08]],\n",
      "\n",
      "         [[3.6952e-12]],\n",
      "\n",
      "         [[6.9465e-11]],\n",
      "\n",
      "         [[8.3410e-17]],\n",
      "\n",
      "         [[1.0000e+00]],\n",
      "\n",
      "         [[3.8091e-11]],\n",
      "\n",
      "         [[2.5140e-08]]]], device='cuda:0', grad_fn=<SoftmaxBackward>)\n",
      "pred_idx:  7\n"
     ]
    }
   ],
   "source": [
    "model.eval()\n",
    "pred = model(single_image.to(device))\n",
    "pred = torch.softmax(pred, dim = 1)\n",
    "pred_idx = pred.argmax(dim=1).item()\n",
    "\n",
    "\n",
    "print(\"pred: \", pred)\n",
    "print(\"pred_idx: \", pred_idx)"
   ]
  },
  {
   "cell_type": "code",
   "execution_count": 178,
   "metadata": {},
   "outputs": [
    {
     "name": "stdout",
     "output_type": "stream",
     "text": [
      "True label is : 7\n",
      "\n",
      "Predicted label is : 7\n",
      "\n"
     ]
    },
    {
     "data": {
      "text/plain": [
       "Text(0.5, 1.0, 'True Image')"
      ]
     },
     "execution_count": 178,
     "metadata": {},
     "output_type": "execute_result"
    },
    {
     "data": {
      "image/png": "[encoded data removed]",
      "text/plain": [
       "<Figure size 432x288 with 1 Axes>"
      ]
     },
     "metadata": {},
     "output_type": "display_data"
    }
   ],
   "source": [
    "print(f\"True label is : {single_label.item()}\\n\")\n",
    "print(f\"Predicted label is : {pred_idx}\\n\")\n",
    "\n",
    "plt.imshow(single_image.squeeze(), cmap='gray')\n",
    "plt.title(\"True Image\")"
   ]
  },
  {
   "cell_type": "code",
   "execution_count": 179,
   "metadata": {},
   "outputs": [],
   "source": [
    "pred[:, pred_idx].backward()"
   ]
  },
  {
   "cell_type": "code",
   "execution_count": 199,
   "metadata": {},
   "outputs": [
    {
     "data": {
      "text/plain": [
       "torch.Size([1, 64, 7, 7])"
      ]
     },
     "execution_count": 199,
     "metadata": {},
     "output_type": "execute_result"
    }
   ],
   "source": [
    "gradients = model.gradients\n",
    "gradients.shape"
   ]
  },
  {
   "cell_type": "code",
   "execution_count": 207,
   "metadata": {},
   "outputs": [
    {
     "data": {
      "text/plain": [
       "torch.Size([64])"
      ]
     },
     "execution_count": 207,
     "metadata": {},
     "output_type": "execute_result"
    }
   ],
   "source": [
    "gradient_avg_pooling = torch.mean(gradients, dim = [0, 2, 3])\n",
    "gradient_avg_pooling.shape"
   ]
  },
  {
   "cell_type": "code",
   "execution_count": 208,
   "metadata": {},
   "outputs": [
    {
     "data": {
      "text/plain": [
       "torch.Size([1, 64, 7, 7])"
      ]
     },
     "execution_count": 208,
     "metadata": {},
     "output_type": "execute_result"
    }
   ],
   "source": [
    "activation_map = model.get_activations(single_image.to(device)).cpu()\n",
    "activation_map.shape"
   ]
  },
  {
   "cell_type": "code",
   "execution_count": 209,
   "metadata": {},
   "outputs": [
    {
     "data": {
      "text/plain": [
       "torch.Size([1, 64, 7, 7])"
      ]
     },
     "execution_count": 209,
     "metadata": {},
     "output_type": "execute_result"
    }
   ],
   "source": [
    "for i in range(activation_map.shape[1]):\n",
    "    activation_map[:, i, :, :] *= gradient_avg_pooling[i]\n",
    "\n",
    "activation_map.shape"
   ]
  },
  {
   "cell_type": "code",
   "execution_count": 210,
   "metadata": {},
   "outputs": [
    {
     "data": {
      "text/plain": [
       "torch.Size([1, 64, 7, 7])"
      ]
     },
     "execution_count": 210,
     "metadata": {},
     "output_type": "execute_result"
    }
   ],
   "source": [
    "activation_map = F.relu(activation_map)\n",
    "# activation_map = torch.max(activation_map, 0)\n",
    "activation_map.shape"
   ]
  },
  {
   "cell_type": "code",
   "execution_count": 212,
   "metadata": {},
   "outputs": [
    {
     "data": {
      "text/plain": [
       "(1, 7, 7)"
      ]
     },
     "execution_count": 212,
     "metadata": {},
     "output_type": "execute_result"
    }
   ],
   "source": [
    "heatmap = torch.mean(activation_map, dim=1).detach().numpy()\n",
    "heatmap.shape"
   ]
  },
  {
   "cell_type": "code",
   "execution_count": 213,
   "metadata": {},
   "outputs": [
    {
     "data": {
      "text/plain": [
       "(28, 28)"
      ]
     },
     "execution_count": 213,
     "metadata": {},
     "output_type": "execute_result"
    }
   ],
   "source": [
    "upsample_heatmap = cv2.resize(heatmap.squeeze(0), dsize=(28, 28), interpolation=cv2.INTER_CUBIC) \n",
    "# upsample_heatmap = np.transpose(upsample_heatmap, (2, 0, 1))\n",
    "upsample_heatmap.shape"
   ]
  },
  {
   "cell_type": "code",
   "execution_count": 219,
   "metadata": {},
   "outputs": [
    {
     "data": {
      "text/plain": [
       "<matplotlib.image.AxesImage at 0x7f2e43feea58>"
      ]
     },
     "execution_count": 219,
     "metadata": {},
     "output_type": "execute_result"
    },
    {
     "data": {
      "image/png": "[encoded data removed]",
      "text/plain": [
       "<Figure size 432x288 with 1 Axes>"
      ]
     },
     "metadata": {},
     "output_type": "display_data"
    }
   ],
   "source": [
    "plt.imshow(single_image.squeeze(), cmap='gray')\n",
    "plt.imshow(upsample_heatmap, alpha=0.8)"
   ]
  },
  {
   "cell_type": "code",
   "execution_count": 73,
   "metadata": {},
   "outputs": [
    {
     "data": {
      "text/plain": [
       "torch.Size([1, 64, 7, 7])"
      ]
     },
     "execution_count": 73,
     "metadata": {},
     "output_type": "execute_result"
    }
   ],
   "source": [
    "# gradients = model.get_gradients()\n",
    "# pooled_gradients = torch.mean(gradients, dim=[0, 2, 3])\n",
    "# activations = model.get_activations(single_image.to(device)).detach()\n",
    "\n",
    "# for i in range(activations.size(1)):\n",
    "#     activations[:, i, :, :] *= pooled_gradients[i]\n",
    "    \n",
    "# heatmap = torch.mean(activations, dim=1).squeeze().cpu()\n",
    "# heatmap = np.maximum(heatmap, 0)\n",
    "# heatmap /= torch.max(heatmap)\n"
   ]
  }
 ],
 "metadata": {
  "kernelspec": {
   "display_name": "Python 3",
   "language": "python",
   "name": "python3"
  },
  "language_info": {
   "codemirror_mode": {
    "name": "ipython",
    "version": 3
   },
   "file_extension": ".py",
   "mimetype": "text/x-python",
   "name": "python",
   "nbconvert_exporter": "python",
   "pygments_lexer": "ipython3",
   "version": "3.6.10"
  }
 },
 "nbformat": 4,
 "nbformat_minor": 4
}
